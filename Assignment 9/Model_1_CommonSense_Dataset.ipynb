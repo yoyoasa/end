{
  "nbformat": 4,
  "nbformat_minor": 0,
  "metadata": {
    "kernelspec": {
      "display_name": "Python 3",
      "language": "python",
      "name": "python3"
    },
    "language_info": {
      "codemirror_mode": {
        "name": "ipython",
        "version": 3
      },
      "file_extension": ".py",
      "mimetype": "text/x-python",
      "name": "python",
      "nbconvert_exporter": "python",
      "pygments_lexer": "ipython3",
      "version": "3.8.2"
    },
    "colab": {
      "name": "Model 1 - CommonSense Dataset",
      "provenance": [],
      "collapsed_sections": [
        "wqR66FM2EzFj"
      ],
      "include_colab_link": true
    },
    "accelerator": "GPU"
  },
  "cells": [
    {
      "cell_type": "markdown",
      "metadata": {
        "id": "view-in-github",
        "colab_type": "text"
      },
      "source": [
        "<a href=\"https://colab.research.google.com/github/MANU-CHAUHAN/end_group/blob/main/Assignment%209/Model%201%20-%20CommonSense%20Dataset.ipynb\" target=\"_parent\"><img src=\"https://colab.research.google.com/assets/colab-badge.svg\" alt=\"Open In Colab\"/></a>"
      ]
    },
    {
      "cell_type": "markdown",
      "metadata": {
        "id": "EzxOJwN7EzFO"
      },
      "source": [
        "# 2 - Learning Phrase Representations using RNN Encoder-Decoder for Statistical Machine Translation\n",
        "\n",
        "In this second notebook on sequence-to-sequence models using PyTorch and TorchText, we'll be implementing the model from [Learning Phrase Representations using RNN Encoder-Decoder for Statistical Machine Translation](https://arxiv.org/abs/1406.1078). This model will achieve improved test perplexity whilst only using a single layer RNN in both the encoder and the decoder.\n",
        "\n",
        "## Introduction\n",
        "\n",
        "Let's remind ourselves of the general encoder-decoder model.\n",
        "\n",
        "![](https://github.com/bentrevett/pytorch-seq2seq/blob/master/assets/seq2seq1.png?raw=1)\n",
        "\n",
        "We use our encoder (green) over the embedded source sequence (yellow) to create a context vector (red). We then use that context vector with the decoder (blue) and a linear layer (purple) to generate the target sentence.\n",
        "\n",
        "In the previous model, we used an multi-layered LSTM as the encoder and decoder.\n",
        "\n",
        "![](https://github.com/bentrevett/pytorch-seq2seq/blob/master/assets/seq2seq4.png?raw=1)\n",
        "\n",
        "One downside of the previous model is that the decoder is trying to cram lots of information into the hidden states. Whilst decoding, the hidden state will need to contain information about the whole of the source sequence, as well as all of the tokens have been decoded so far. By alleviating some of this information compression, we can create a better model!\n",
        "\n",
        "We'll also be using a GRU (Gated Recurrent Unit) instead of an LSTM (Long Short-Term Memory). Why? Mainly because that's what they did in the paper (this paper also introduced GRUs) and also because we used LSTMs last time. To understand how GRUs (and LSTMs) differ from standard RNNS, check out [this](https://colah.github.io/posts/2015-08-Understanding-LSTMs/) link. Is a GRU better than an LSTM? [Research](https://arxiv.org/abs/1412.3555) has shown they're pretty much the same, and both are better than standard RNNs. \n",
        "\n",
        "## Preparing Data\n",
        "\n",
        "All of the data preparation will be (almost) the same as last time, so we'll very briefly detail what each code block does. See the previous notebook for a recap.\n",
        "\n",
        "We'll import PyTorch, TorchText, spaCy and a few standard modules."
      ]
    },
    {
      "cell_type": "code",
      "metadata": {
        "id": "uUnMLdevEzFT"
      },
      "source": [
        "import torch\n",
        "import torch.nn as nn\n",
        "import torch.optim as optim\n",
        "import torchtext\n",
        "\n",
        "from torchtext.datasets import Multi30k\n",
        "from torchtext.data import Field, BucketIterator, Example, Dataset\n",
        "\n",
        "import spacy\n",
        "import numpy as np\n",
        "\n",
        "import random\n",
        "import math\n",
        "import time\n",
        "import pandas as pd\n",
        "import json"
      ],
      "execution_count": 1,
      "outputs": []
    },
    {
      "cell_type": "markdown",
      "metadata": {
        "id": "srzErHAsEzFU"
      },
      "source": [
        "Then set a random seed for deterministic results/reproducability."
      ]
    },
    {
      "cell_type": "code",
      "metadata": {
        "id": "r_wP4J4LEzFX"
      },
      "source": [
        "SEED = 1234\n",
        "\n",
        "random.seed(SEED)\n",
        "np.random.seed(SEED)\n",
        "torch.manual_seed(SEED)\n",
        "torch.cuda.manual_seed(SEED)\n",
        "torch.backends.cudnn.deterministic = True"
      ],
      "execution_count": 2,
      "outputs": []
    },
    {
      "cell_type": "markdown",
      "metadata": {
        "id": "hawianoFEzFY"
      },
      "source": [
        "### Download Dataset\r\n",
        "\r\n",
        "CommonsenseQA https://www.tau-nlp.org/commonsenseqa dataset"
      ]
    },
    {
      "cell_type": "code",
      "metadata": {
        "colab": {
          "base_uri": "https://localhost:8080/"
        },
        "id": "eajsqfuEonZW",
        "outputId": "69eb71e6-1e26-4268-d0b8-13d6541e7384"
      },
      "source": [
        "%%bash\r\n",
        "wget https://s3.amazonaws.com/commensenseqa/train_rand_split.jsonl\r\n",
        "wget https://s3.amazonaws.com/commensenseqa/dev_rand_split.jsonl\r\n",
        "wget https://s3.amazonaws.com/commensenseqa/test_rand_split_no_answers.jsonl"
      ],
      "execution_count": 3,
      "outputs": [
        {
          "output_type": "stream",
          "text": [
            "--2021-01-09 10:46:27--  https://s3.amazonaws.com/commensenseqa/train_rand_split.jsonl\n",
            "Resolving s3.amazonaws.com (s3.amazonaws.com)... 52.217.40.190\n",
            "Connecting to s3.amazonaws.com (s3.amazonaws.com)|52.217.40.190|:443... connected.\n",
            "HTTP request sent, awaiting response... 200 OK\n",
            "Length: 3785890 (3.6M) [binary/octet-stream]\n",
            "Saving to: ‘train_rand_split.jsonl’\n",
            "\n",
            "     0K .......... .......... .......... .......... ..........  1%  278K 13s\n",
            "    50K .......... .......... .......... .......... ..........  2%  283K 13s\n",
            "   100K .......... .......... .......... .......... ..........  4%  280K 13s\n",
            "   150K .......... .......... .......... .......... ..........  5%  105M 9s\n",
            "   200K .......... .......... .......... .......... ..........  6%  281K 10s\n",
            "   250K .......... .......... .......... .......... ..........  8% 88.0M 8s\n",
            "   300K .......... .......... .......... .......... ..........  9%  200M 7s\n",
            "   350K .......... .......... .......... .......... .......... 10%  180M 6s\n",
            "   400K .......... .......... .......... .......... .......... 12%  283K 6s\n",
            "   450K .......... .......... .......... .......... .......... 13% 80.7M 6s\n",
            "   500K .......... .......... .......... .......... .......... 14%  144M 5s\n",
            "   550K .......... .......... .......... .......... .......... 16% 89.3M 5s\n",
            "   600K .......... .......... .......... .......... .......... 17%  282K 5s\n",
            "   650K .......... .......... .......... .......... .......... 18%  158M 5s\n",
            "   700K .......... .......... .......... .......... .......... 20%  108M 4s\n",
            "   750K .......... .......... .......... .......... .......... 21%  123M 4s\n",
            "   800K .......... .......... .......... .......... .......... 22%  131M 4s\n",
            "   850K .......... .......... .......... .......... .......... 24%  114M 3s\n",
            "   900K .......... .......... .......... .......... .......... 25% 98.5M 3s\n",
            "   950K .......... .......... .......... .......... .......... 27%  111M 3s\n",
            "  1000K .......... .......... .......... .......... .......... 28% 99.1M 3s\n",
            "  1050K .......... .......... .......... .......... .......... 29% 86.5M 3s\n",
            "  1100K .......... .......... .......... .......... .......... 31%  287K 3s\n",
            "  1150K .......... .......... .......... .......... .......... 32%  109M 3s\n",
            "  1200K .......... .......... .......... .......... .......... 33%  155M 2s\n",
            "  1250K .......... .......... .......... .......... .......... 35% 92.6M 2s\n",
            "  1300K .......... .......... .......... .......... .......... 36% 91.2M 2s\n",
            "  1350K .......... .......... .......... .......... .......... 37% 83.7M 2s\n",
            "  1400K .......... .......... .......... .......... .......... 39%  112M 2s\n",
            "  1450K .......... .......... .......... .......... .......... 40%  132M 2s\n",
            "  1500K .......... .......... .......... .......... .......... 41% 61.8M 2s\n",
            "  1550K .......... .......... .......... .......... .......... 43%  123M 2s\n",
            "  1600K .......... .......... .......... .......... .......... 44%  187M 2s\n",
            "  1650K .......... .......... .......... .......... .......... 45%  183M 1s\n",
            "  1700K .......... .......... .......... .......... .......... 47%  245M 1s\n",
            "  1750K .......... .......... .......... .......... .......... 48%  180M 1s\n",
            "  1800K .......... .......... .......... .......... .......... 50%  169M 1s\n",
            "  1850K .......... .......... .......... .......... .......... 51%  159M 1s\n",
            "  1900K .......... .......... .......... .......... .......... 52%  154M 1s\n",
            "  1950K .......... .......... .......... .......... .......... 54%  193M 1s\n",
            "  2000K .......... .......... .......... .......... .......... 55%  165M 1s\n",
            "  2050K .......... .......... .......... .......... .......... 56%  230M 1s\n",
            "  2100K .......... .......... .......... .......... .......... 58%  148M 1s\n",
            "  2150K .......... .......... .......... .......... .......... 59%  292K 1s\n",
            "  2200K .......... .......... .......... .......... .......... 60%  160M 1s\n",
            "  2250K .......... .......... .......... .......... .......... 62%  121M 1s\n",
            "  2300K .......... .......... .......... .......... .......... 63%  171M 1s\n",
            "  2350K .......... .......... .......... .......... .......... 64%  188M 1s\n",
            "  2400K .......... .......... .......... .......... .......... 66%  176M 1s\n",
            "  2450K .......... .......... .......... .......... .......... 67%  197M 1s\n",
            "  2500K .......... .......... .......... .......... .......... 68%  176M 1s\n",
            "  2550K .......... .......... .......... .......... .......... 70%  198M 1s\n",
            "  2600K .......... .......... .......... .......... .......... 71%  200M 1s\n",
            "  2650K .......... .......... .......... .......... .......... 73%  212M 1s\n",
            "  2700K .......... .......... .......... .......... .......... 74%  199M 0s\n",
            "  2750K .......... .......... .......... .......... .......... 75%  123M 0s\n",
            "  2800K .......... .......... .......... .......... .......... 77%  160M 0s\n",
            "  2850K .......... .......... .......... .......... .......... 78%  236M 0s\n",
            "  2900K .......... .......... .......... .......... .......... 79%  116M 0s\n",
            "  2950K .......... .......... .......... .......... .......... 81%  213M 0s\n",
            "  3000K .......... .......... .......... .......... .......... 82%  151M 0s\n",
            "  3050K .......... .......... .......... .......... .......... 83%  122M 0s\n",
            "  3100K .......... .......... .......... .......... .......... 85%  200M 0s\n",
            "  3150K .......... .......... .......... .......... .......... 86%  223M 0s\n",
            "  3200K .......... .......... .......... .......... .......... 87%  224M 0s\n",
            "  3250K .......... .......... .......... .......... .......... 89%  276M 0s\n",
            "  3300K .......... .......... .......... .......... .......... 90%  176M 0s\n",
            "  3350K .......... .......... .......... .......... .......... 91%  220M 0s\n",
            "  3400K .......... .......... .......... .......... .......... 93%  238M 0s\n",
            "  3450K .......... .......... .......... .......... .......... 94%  219M 0s\n",
            "  3500K .......... .......... .......... .......... .......... 96%  190M 0s\n",
            "  3550K .......... .......... .......... .......... .......... 97%  218M 0s\n",
            "  3600K .......... .......... .......... .......... .......... 98%  260M 0s\n",
            "  3650K .......... .......... .......... .......... .......   100%  251M=1.4s\n",
            "\n",
            "2021-01-09 10:46:29 (2.52 MB/s) - ‘train_rand_split.jsonl’ saved [3785890/3785890]\n",
            "\n",
            "--2021-01-09 10:46:29--  https://s3.amazonaws.com/commensenseqa/dev_rand_split.jsonl\n",
            "Resolving s3.amazonaws.com (s3.amazonaws.com)... 52.216.98.221\n",
            "Connecting to s3.amazonaws.com (s3.amazonaws.com)|52.216.98.221|:443... connected.\n",
            "HTTP request sent, awaiting response... 200 OK\n",
            "Length: 471653 (461K) [binary/octet-stream]\n",
            "Saving to: ‘dev_rand_split.jsonl’\n",
            "\n",
            "     0K .......... .......... .......... .......... .......... 10%  281K 1s\n",
            "    50K .......... .......... .......... .......... .......... 21%  140K 2s\n",
            "   100K .......... .......... .......... .......... .......... 32%  116M 1s\n",
            "   150K .......... .......... .......... .......... .......... 43%  282K 1s\n",
            "   200K .......... .......... .......... .......... .......... 54% 85.6M 1s\n",
            "   250K .......... .......... .......... .......... .......... 65%  121M 0s\n",
            "   300K .......... .......... .......... .......... .......... 75%  116M 0s\n",
            "   350K .......... .......... .......... .......... .......... 86%  282K 0s\n",
            "   400K .......... .......... .......... .......... .......... 97%  173M 0s\n",
            "   450K ..........                                            100%  196M=0.9s\n",
            "\n",
            "2021-01-09 10:46:31 (517 KB/s) - ‘dev_rand_split.jsonl’ saved [471653/471653]\n",
            "\n",
            "--2021-01-09 10:46:31--  https://s3.amazonaws.com/commensenseqa/test_rand_split_no_answers.jsonl\n",
            "Resolving s3.amazonaws.com (s3.amazonaws.com)... 52.216.98.221\n",
            "Connecting to s3.amazonaws.com (s3.amazonaws.com)|52.216.98.221|:443... connected.\n",
            "HTTP request sent, awaiting response... 200 OK\n",
            "Length: 423148 (413K) [binary/octet-stream]\n",
            "Saving to: ‘test_rand_split_no_answers.jsonl’\n",
            "\n",
            "     0K .......... .......... .......... .......... .......... 12%  275K 1s\n",
            "    50K .......... .......... .......... .......... .......... 24%  138K 2s\n",
            "   100K .......... .......... .......... .......... .......... 36%  102M 1s\n",
            "   150K .......... .......... .......... .......... .......... 48%  276K 1s\n",
            "   200K .......... .......... .......... .......... .......... 60%  116M 0s\n",
            "   250K .......... .......... .......... .......... .......... 72% 84.5M 0s\n",
            "   300K .......... .......... .......... .......... .......... 84% 65.7M 0s\n",
            "   350K .......... .......... .......... .......... .......... 96%  278K 0s\n",
            "   400K .......... ...                                        100%  205M=0.9s\n",
            "\n",
            "2021-01-09 10:46:32 (455 KB/s) - ‘test_rand_split_no_answers.jsonl’ saved [423148/423148]\n",
            "\n"
          ],
          "name": "stderr"
        }
      ]
    },
    {
      "cell_type": "code",
      "metadata": {
        "id": "G1Q_ExgJo8hY"
      },
      "source": [
        "spacy_en = spacy.load('en')\r\n",
        "\r\n",
        "def tokenize_en(text):\r\n",
        "    \"\"\"\r\n",
        "    Tokenizes English text from a string into a list of strings\r\n",
        "    \"\"\"\r\n",
        "    return [tok.text for tok in spacy_en.tokenizer(text)]"
      ],
      "execution_count": 4,
      "outputs": []
    },
    {
      "cell_type": "code",
      "metadata": {
        "id": "GBnLlhDIpBXT"
      },
      "source": [
        "SRC = Field(init_token = '<sos>', eos_token = '<eos>', tokenize = tokenize_en, lower = True)\r\n",
        "TRG = Field(init_token = '<sos>', eos_token = '<eos>', tokenize = tokenize_en, lower = True)\r\n",
        "\r\n",
        "fields = [('src', SRC),('trg', TRG)]"
      ],
      "execution_count": 5,
      "outputs": []
    },
    {
      "cell_type": "code",
      "metadata": {
        "id": "QH3VaUEopKI0"
      },
      "source": [
        "def answer(choices, answerKey):\r\n",
        "    for choice in choices:\r\n",
        "        if choice['label'] == answerKey:\r\n",
        "            return choice['text']\r\n",
        "\r\n",
        "with open('./train_rand_split.jsonl') as f:\r\n",
        "    train_lines = f.readlines()\r\n",
        "\r\n",
        "\r\n",
        "with open('./dev_rand_split.jsonl') as f:\r\n",
        "    valid_lines = f.readlines()\r\n",
        "\r\n",
        "with open('./test_rand_split_no_answers.jsonl') as f:\r\n",
        "    test_lines = f.readlines()\r\n",
        "\r\n",
        "\r\n",
        "\r\n",
        "train_lines = [json.loads(l) for l in train_lines]\r\n",
        "valid_lines = [json.loads(l) for l in valid_lines]\r\n",
        "test_lines = [json.loads(l) for l in test_lines]\r\n",
        "\r\n",
        "\r\n",
        "train_lines = [{'src': l['question']['stem'], 'trg': answer(l['question']['choices'], l['answerKey'])} for l in train_lines]\r\n",
        "valid_lines = [{'src': l['question']['stem'], 'trg': answer(l['question']['choices'], l['answerKey'])} for l in valid_lines]\r\n",
        "test_lines = [{'src': l['question']['stem']} for l in test_lines]\r\n",
        "\r\n",
        "train_df = pd.DataFrame(train_lines)\r\n",
        "valid_df = pd.DataFrame(valid_lines)\r\n",
        "test_df = pd.DataFrame(test_lines)\r\n",
        "\r\n",
        "train_example = [Example.fromlist([train_df.src[i], train_df.trg[i]], fields) for i in range(train_df.shape[0])]\r\n",
        "valid_example = [Example.fromlist([valid_df.src[i], valid_df.trg[i]], fields) for i in range(valid_df.shape[0])]\r\n",
        "test_example = [Example.fromlist([valid_df.src[i], valid_df.trg[i]], fields) for i in range(test_df.shape[0])]\r\n",
        "\r\n",
        "train_data = Dataset(train_example, fields)\r\n",
        "valid_data = Dataset(valid_example, fields)\r\n",
        "test_data = Dataset(test_example, fields)"
      ],
      "execution_count": 14,
      "outputs": []
    },
    {
      "cell_type": "markdown",
      "metadata": {
        "id": "Fen1DHy6EzFb"
      },
      "source": [
        "We'll also print out an example just to double check they're not reversed."
      ]
    },
    {
      "cell_type": "code",
      "metadata": {
        "id": "IzKhUJo4EzFb",
        "colab": {
          "base_uri": "https://localhost:8080/"
        },
        "outputId": "8a4572a7-f4ea-4d2d-cc52-6125efb55fd3"
      },
      "source": [
        "print(vars(train_data.examples[0]))"
      ],
      "execution_count": 15,
      "outputs": [
        {
          "output_type": "stream",
          "text": [
            "{'src': ['the', 'sanctions', 'against', 'the', 'school', 'were', 'a', 'punishing', 'blow', ',', 'and', 'they', 'seemed', 'to', 'what', 'the', 'efforts', 'the', 'school', 'had', 'made', 'to', 'change', '?'], 'trg': ['ignore']}\n"
          ],
          "name": "stdout"
        }
      ]
    },
    {
      "cell_type": "markdown",
      "metadata": {
        "id": "RRDnbA09EzFc"
      },
      "source": [
        "Then create our vocabulary, converting all tokens appearing less than twice into `<unk>` tokens."
      ]
    },
    {
      "cell_type": "code",
      "metadata": {
        "id": "2by1IUzDEzFd"
      },
      "source": [
        "SRC.build_vocab(train_data, min_freq = 2)\n",
        "TRG.build_vocab(train_data, min_freq = 2)"
      ],
      "execution_count": 8,
      "outputs": []
    },
    {
      "cell_type": "markdown",
      "metadata": {
        "id": "F2hiioCLEzFd"
      },
      "source": [
        "Finally, define the `device` and create our iterators."
      ]
    },
    {
      "cell_type": "code",
      "metadata": {
        "id": "f4davOyYEzFd"
      },
      "source": [
        "device = torch.device('cuda' if torch.cuda.is_available() else 'cpu')\r\n"
      ],
      "execution_count": 9,
      "outputs": []
    },
    {
      "cell_type": "code",
      "metadata": {
        "colab": {
          "base_uri": "https://localhost:8080/"
        },
        "id": "Kb6I90Z2hCgY",
        "outputId": "217d4ac2-005b-4d66-c982-209d59f21621"
      },
      "source": [
        "device"
      ],
      "execution_count": 10,
      "outputs": [
        {
          "output_type": "execute_result",
          "data": {
            "text/plain": [
              "device(type='cuda')"
            ]
          },
          "metadata": {
            "tags": []
          },
          "execution_count": 10
        }
      ]
    },
    {
      "cell_type": "code",
      "metadata": {
        "id": "ZT4Zg9QrEzFd"
      },
      "source": [
        "BATCH_SIZE = 128\n",
        "\n",
        "train_iterator, valid_iterator, test_iterator = BucketIterator.splits(\n",
        "    (train_data, valid_data, test_data), \n",
        "    batch_size = BATCH_SIZE, \n",
        "    device = device, sort=False)"
      ],
      "execution_count": 16,
      "outputs": []
    },
    {
      "cell_type": "markdown",
      "metadata": {
        "id": "Jq7BwOO4EzFd"
      },
      "source": [
        "## Building the Seq2Seq Model\n",
        "\n",
        "### Encoder\n",
        "\n",
        "The encoder is similar to the previous one, with the multi-layer LSTM swapped for a single-layer GRU. We also don't pass the dropout as an argument to the GRU as that dropout is used between each layer of a multi-layered RNN. As we only have a single layer, PyTorch will display a warning if we try and use pass a dropout value to it.\n",
        "\n",
        "Another thing to note about the GRU is that it only requires and returns a hidden state, there is no cell state like in the LSTM.\n",
        "\n",
        "$$\\begin{align*}\n",
        "h_t &= \\text{GRU}(e(x_t), h_{t-1})\\\\\n",
        "(h_t, c_t) &= \\text{LSTM}(e(x_t), h_{t-1}, c_{t-1})\\\\\n",
        "h_t &= \\text{RNN}(e(x_t), h_{t-1})\n",
        "\\end{align*}$$\n",
        "\n",
        "From the equations above, it looks like the RNN and the GRU are identical. Inside the GRU, however, is a number of *gating mechanisms* that control the information flow in to and out of the hidden state (similar to an LSTM). Again, for more info, check out [this](https://colah.github.io/posts/2015-08-Understanding-LSTMs/) excellent post. \n",
        "\n",
        "The rest of the encoder should be very familar from the last session, it takes in a sequence, $X = \\{x_1, x_2, ... , x_T\\}$, passes it through the embedding layer, recurrently calculates hidden states, $H = \\{h_1, h_2, ..., h_T\\}$, and returns a context vector (the final hidden state), $z=h_T$.\n",
        "\n",
        "$$h_t = \\text{EncoderGRU}(e(x_t), h_{t-1})$$\n",
        "\n",
        "This is identical to the encoder of the general seq2seq model, with all the \"magic\" happening inside the GRU (green).\n",
        "\n",
        "![](https://github.com/bentrevett/pytorch-seq2seq/blob/master/assets/seq2seq5.png?raw=1)"
      ]
    },
    {
      "cell_type": "code",
      "metadata": {
        "id": "11CnDhTkEzFd"
      },
      "source": [
        "class Encoder(nn.Module):\n",
        "    def __init__(self, input_dim, emb_dim, hid_dim, dropout):\n",
        "        super().__init__()\n",
        "\n",
        "        self.hid_dim = hid_dim\n",
        "        \n",
        "        self.embedding = nn.Embedding(input_dim, emb_dim) #no dropout as only one layer!\n",
        "        \n",
        "        self.rnn = nn.GRU(emb_dim, hid_dim)\n",
        "        \n",
        "        self.dropout = nn.Dropout(dropout)\n",
        "        \n",
        "    def forward(self, src):\n",
        "        \n",
        "        #src = [src len, batch size]\n",
        "        \n",
        "        embedded = self.dropout(self.embedding(src))\n",
        "        \n",
        "        #embedded = [src len, batch size, emb dim]\n",
        "        \n",
        "        outputs, hidden = self.rnn(embedded) #no cell state!\n",
        "        \n",
        "        #outputs = [src len, batch size, hid dim * n directions]\n",
        "        #hidden = [n layers * n directions, batch size, hid dim]\n",
        "        \n",
        "        #outputs are always from the top hidden layer\n",
        "        \n",
        "        return hidden"
      ],
      "execution_count": 17,
      "outputs": []
    },
    {
      "cell_type": "markdown",
      "metadata": {
        "id": "FhBViJ4-EzFe"
      },
      "source": [
        "## Decoder\n",
        "\n",
        "The decoder is where the implementation differs significantly from the previous model and we alleviate some of the information compression.\n",
        "\n",
        "Instead of the GRU in the decoder taking just the embedded target token, $d(y_t)$ and the previous hidden state $s_{t-1}$ as inputs, it also takes the context vector $z$. \n",
        "\n",
        "$$s_t = \\text{DecoderGRU}(d(y_t), s_{t-1}, z)$$\n",
        "\n",
        "Note how this context vector, $z$, does not have a $t$ subscript, meaning we re-use the same context vector returned by the encoder for every time-step in the decoder. \n",
        "\n",
        "Before, we predicted the next token, $\\hat{y}_{t+1}$, with the linear layer, $f$, only using the top-layer decoder hidden state at that time-step, $s_t$, as $\\hat{y}_{t+1}=f(s_t^L)$. Now, we also pass the embedding of current token, $d(y_t)$ and the context vector, $z$ to the linear layer.\n",
        "\n",
        "$$\\hat{y}_{t+1} = f(d(y_t), s_t, z)$$\n",
        "\n",
        "Thus, our decoder now looks something like this:\n",
        "\n",
        "![](https://github.com/bentrevett/pytorch-seq2seq/blob/master/assets/seq2seq6.png?raw=1)\n",
        "\n",
        "Note, the initial hidden state, $s_0$, is still the context vector, $z$, so when generating the first token we are actually inputting two identical context vectors into the GRU.\n",
        "\n",
        "How do these two changes reduce the information compression? Well, hypothetically the decoder hidden states, $s_t$, no longer need to contain information about the source sequence as it is always available as an input. Thus, it only needs to contain information about what tokens it has generated so far. The addition of $y_t$ to the linear layer also means this layer can directly see what the token is, without having to get this information from the hidden state. \n",
        "\n",
        "However, this hypothesis is just a hypothesis, it is impossible to determine how the model actually uses the information provided to it (don't listen to anyone that says differently). Nevertheless, it is a solid intuition and the results seem to indicate that this modifications are a good idea!\n",
        "\n",
        "Within the implementation, we will pass $d(y_t)$ and $z$ to the GRU by concatenating them together, so the input dimensions to the GRU are now `emb_dim + hid_dim` (as context vector will be of size `hid_dim`). The linear layer will take $d(y_t), s_t$ and $z$ also by concatenating them together, hence the input dimensions are now `emb_dim + hid_dim*2`. We also don't pass a value of dropout to the GRU as it only uses a single layer.\n",
        "\n",
        "`forward` now takes a `context` argument. Inside of `forward`, we concatenate $y_t$ and $z$ as `emb_con` before feeding to the GRU, and we concatenate $d(y_t)$, $s_t$ and $z$ together as `output` before feeding it through the linear layer to receive our predictions, $\\hat{y}_{t+1}$."
      ]
    },
    {
      "cell_type": "code",
      "metadata": {
        "id": "wRA8hkiLEzFh"
      },
      "source": [
        "class Decoder(nn.Module):\n",
        "    def __init__(self, output_dim, emb_dim, hid_dim, dropout):\n",
        "        super().__init__()\n",
        "\n",
        "        self.hid_dim = hid_dim\n",
        "        self.output_dim = output_dim\n",
        "        \n",
        "        self.embedding = nn.Embedding(output_dim, emb_dim)\n",
        "        \n",
        "        self.rnn = nn.GRU(emb_dim + hid_dim, hid_dim)\n",
        "        \n",
        "        self.fc_out = nn.Linear(emb_dim + hid_dim * 2, output_dim)\n",
        "        \n",
        "        self.dropout = nn.Dropout(dropout)\n",
        "        \n",
        "    def forward(self, input, hidden, context):\n",
        "        \n",
        "        #input = [batch size]\n",
        "        #hidden = [n layers * n directions, batch size, hid dim]\n",
        "        #context = [n layers * n directions, batch size, hid dim]\n",
        "        \n",
        "        #n layers and n directions in the decoder will both always be 1, therefore:\n",
        "        #hidden = [1, batch size, hid dim]\n",
        "        #context = [1, batch size, hid dim]\n",
        "        \n",
        "        input = input.unsqueeze(0)\n",
        "        \n",
        "        #input = [1, batch size]\n",
        "        \n",
        "        embedded = self.dropout(self.embedding(input))\n",
        "        \n",
        "        #embedded = [1, batch size, emb dim]\n",
        "                \n",
        "        emb_con = torch.cat((embedded, context), dim = 2)\n",
        "            \n",
        "        #emb_con = [1, batch size, emb dim + hid dim]\n",
        "            \n",
        "        output, hidden = self.rnn(emb_con, hidden)\n",
        "        \n",
        "        #output = [seq len, batch size, hid dim * n directions]\n",
        "        #hidden = [n layers * n directions, batch size, hid dim]\n",
        "        \n",
        "        #seq len, n layers and n directions will always be 1 in the decoder, therefore:\n",
        "        #output = [1, batch size, hid dim]\n",
        "        #hidden = [1, batch size, hid dim]\n",
        "        \n",
        "        output = torch.cat((embedded.squeeze(0), hidden.squeeze(0), context.squeeze(0)), \n",
        "                           dim = 1)\n",
        "        \n",
        "        #output = [batch size, emb dim + hid dim * 2]\n",
        "        \n",
        "        prediction = self.fc_out(output)\n",
        "        \n",
        "        #prediction = [batch size, output dim]\n",
        "        \n",
        "        return prediction, hidden"
      ],
      "execution_count": 18,
      "outputs": []
    },
    {
      "cell_type": "markdown",
      "metadata": {
        "id": "wqR66FM2EzFj"
      },
      "source": [
        "## Seq2Seq Model\n",
        "\n",
        "Putting the encoder and decoder together, we get:\n",
        "\n",
        "![](https://github.com/bentrevett/pytorch-seq2seq/blob/master/assets/seq2seq7.png?raw=1)\n",
        "\n",
        "Again, in this implementation we need to ensure the hidden dimensions in both the encoder and the decoder are the same.\n",
        "\n",
        "Briefly going over all of the steps:\n",
        "- the `outputs` tensor is created to hold all predictions, $\\hat{Y}$\n",
        "- the source sequence, $X$, is fed into the encoder to receive a `context` vector\n",
        "- the initial decoder hidden state is set to be the `context` vector, $s_0 = z = h_T$\n",
        "- we use a batch of `<sos>` tokens as the first `input`, $y_1$\n",
        "- we then decode within a loop:\n",
        "  - inserting the input token $y_t$, previous hidden state, $s_{t-1}$, and the context vector, $z$, into the decoder\n",
        "  - receiving a prediction, $\\hat{y}_{t+1}$, and a new hidden state, $s_t$\n",
        "  - we then decide if we are going to teacher force or not, setting the next input as appropriate (either the ground truth next token in the target sequence or the highest predicted next token)"
      ]
    },
    {
      "cell_type": "code",
      "metadata": {
        "id": "FDyNrQ8VEzFk"
      },
      "source": [
        "class Seq2Seq(nn.Module):\n",
        "    def __init__(self, encoder, decoder, device):\n",
        "        super().__init__()\n",
        "        \n",
        "        self.encoder = encoder\n",
        "        self.decoder = decoder\n",
        "        self.device = device\n",
        "        \n",
        "        assert encoder.hid_dim == decoder.hid_dim, \\\n",
        "            \"Hidden dimensions of encoder and decoder must be equal!\"\n",
        "        \n",
        "    def forward(self, src, trg, teacher_forcing_ratio = 0.5):\n",
        "        \n",
        "        #src = [src len, batch size]\n",
        "        #trg = [trg len, batch size]\n",
        "        #teacher_forcing_ratio is probability to use teacher forcing\n",
        "        #e.g. if teacher_forcing_ratio is 0.75 we use ground-truth inputs 75% of the time\n",
        "        \n",
        "        batch_size = trg.shape[1]\n",
        "        trg_len = trg.shape[0]\n",
        "        trg_vocab_size = self.decoder.output_dim\n",
        "        \n",
        "        #tensor to store decoder outputs\n",
        "        outputs = torch.zeros(trg_len, batch_size, trg_vocab_size).to(self.device)\n",
        "        \n",
        "        #last hidden state of the encoder is the context\n",
        "        context = self.encoder(src)\n",
        "        \n",
        "        #context also used as the initial hidden state of the decoder\n",
        "        hidden = context\n",
        "        \n",
        "        #first input to the decoder is the <sos> tokens\n",
        "        input = trg[0,:]\n",
        "        \n",
        "        for t in range(1, trg_len):\n",
        "            \n",
        "            #insert input token embedding, previous hidden state and the context state\n",
        "            #receive output tensor (predictions) and new hidden state\n",
        "            output, hidden = self.decoder(input, hidden, context)\n",
        "            \n",
        "            #place predictions in a tensor holding predictions for each token\n",
        "            outputs[t] = output\n",
        "            \n",
        "            #decide if we are going to use teacher forcing or not\n",
        "            teacher_force = random.random() < teacher_forcing_ratio\n",
        "            \n",
        "            #get the highest predicted token from our predictions\n",
        "            top1 = output.argmax(1) \n",
        "            \n",
        "            #if teacher forcing, use actual next token as next input\n",
        "            #if not, use predicted token\n",
        "            input = trg[t] if teacher_force else top1\n",
        "\n",
        "        return outputs"
      ],
      "execution_count": 19,
      "outputs": []
    },
    {
      "cell_type": "markdown",
      "metadata": {
        "id": "uxVMMPUyEzFk"
      },
      "source": [
        "# Training the Seq2Seq Model\n",
        "\n",
        "The rest of this session is very similar to the previous one. \n",
        "\n",
        "We initialise our encoder, decoder and seq2seq model (placing it on the GPU if we have one). As before, the embedding dimensions and the amount of dropout used can be different between the encoder and the decoder, but the hidden dimensions must remain the same."
      ]
    },
    {
      "cell_type": "code",
      "metadata": {
        "id": "WDG6jOSuEzFk",
        "colab": {
          "base_uri": "https://localhost:8080/"
        },
        "outputId": "e9bb1909-282e-49fd-d948-21cb4ca07b0f"
      },
      "source": [
        "INPUT_DIM = len(SRC.vocab)\n",
        "OUTPUT_DIM = len(TRG.vocab)\n",
        "ENC_EMB_DIM = 256\n",
        "DEC_EMB_DIM = 256\n",
        "HID_DIM = 512\n",
        "ENC_DROPOUT = 0.5\n",
        "DEC_DROPOUT = 0.5\n",
        "\n",
        "enc = Encoder(INPUT_DIM, ENC_EMB_DIM, HID_DIM, ENC_DROPOUT)\n",
        "dec = Decoder(OUTPUT_DIM, DEC_EMB_DIM, HID_DIM, DEC_DROPOUT)\n",
        "\n",
        "device = torch.device('cuda' if torch.cuda.is_available() else 'cpu')\n",
        "print(device)\n",
        "\n",
        "model = Seq2Seq(enc, dec, device).to(device)"
      ],
      "execution_count": 20,
      "outputs": [
        {
          "output_type": "stream",
          "text": [
            "cuda\n"
          ],
          "name": "stdout"
        }
      ]
    },
    {
      "cell_type": "markdown",
      "metadata": {
        "id": "RLIc1l6CEzFk"
      },
      "source": [
        "Next, we initialize our parameters. The paper states the parameters are initialized from a normal distribution with a mean of 0 and a standard deviation of 0.01, i.e. $\\mathcal{N}(0, 0.01)$. \n",
        "\n",
        "It also states we should initialize the recurrent parameters to a special initialization, however to keep things simple we'll also initialize them to $\\mathcal{N}(0, 0.01)$."
      ]
    },
    {
      "cell_type": "code",
      "metadata": {
        "id": "HgqMqq-oEzFk",
        "colab": {
          "base_uri": "https://localhost:8080/"
        },
        "outputId": "f047f647-cf53-4cd0-d41a-41440212c41b"
      },
      "source": [
        "def init_weights(m):\n",
        "    for name, param in m.named_parameters():\n",
        "        nn.init.normal_(param.data, mean=0, std=0.01)\n",
        "        \n",
        "model.apply(init_weights)"
      ],
      "execution_count": 21,
      "outputs": [
        {
          "output_type": "execute_result",
          "data": {
            "text/plain": [
              "Seq2Seq(\n",
              "  (encoder): Encoder(\n",
              "    (embedding): Embedding(4532, 256)\n",
              "    (rnn): GRU(256, 512)\n",
              "    (dropout): Dropout(p=0.5, inplace=False)\n",
              "  )\n",
              "  (decoder): Decoder(\n",
              "    (embedding): Embedding(1859, 256)\n",
              "    (rnn): GRU(768, 512)\n",
              "    (fc_out): Linear(in_features=1280, out_features=1859, bias=True)\n",
              "    (dropout): Dropout(p=0.5, inplace=False)\n",
              "  )\n",
              ")"
            ]
          },
          "metadata": {
            "tags": []
          },
          "execution_count": 21
        }
      ]
    },
    {
      "cell_type": "markdown",
      "metadata": {
        "id": "hd1QoOsUEzFl"
      },
      "source": [
        "We print out the number of parameters.\n",
        "\n",
        "Even though we only have a single layer RNN for our encoder and decoder we actually have **more** parameters  than the last model. This is due to the increased size of the inputs to the GRU and the linear layer. However, it is not a significant amount of parameters and causes a minimal amount of increase in training time (~3 seconds per epoch extra)."
      ]
    },
    {
      "cell_type": "code",
      "metadata": {
        "id": "IggCwIBgEzFl",
        "colab": {
          "base_uri": "https://localhost:8080/"
        },
        "outputId": "519d4018-a50e-436e-f2cd-9a23aa377f59"
      },
      "source": [
        "def count_parameters(model):\n",
        "    return sum(p.numel() for p in model.parameters() if p.requires_grad)\n",
        "\n",
        "print(f'The model has {count_parameters(model):,} trainable parameters')"
      ],
      "execution_count": 22,
      "outputs": [
        {
          "output_type": "stream",
          "text": [
            "The model has 7,169,347 trainable parameters\n"
          ],
          "name": "stdout"
        }
      ]
    },
    {
      "cell_type": "markdown",
      "metadata": {
        "id": "YiH54qzHEzFl"
      },
      "source": [
        "We initiaize our optimizer."
      ]
    },
    {
      "cell_type": "code",
      "metadata": {
        "id": "eO1_eoG7EzFl"
      },
      "source": [
        "optimizer = optim.Adam(model.parameters())"
      ],
      "execution_count": 23,
      "outputs": []
    },
    {
      "cell_type": "markdown",
      "metadata": {
        "id": "BwkV3FKlEzFl"
      },
      "source": [
        "We also initialize the loss function, making sure to ignore the loss on `<pad>` tokens."
      ]
    },
    {
      "cell_type": "code",
      "metadata": {
        "id": "H0DAbGbcEzFl"
      },
      "source": [
        "TRG_PAD_IDX = TRG.vocab.stoi[TRG.pad_token]\n",
        "\n",
        "criterion = nn.CrossEntropyLoss(ignore_index = TRG_PAD_IDX)"
      ],
      "execution_count": 24,
      "outputs": []
    },
    {
      "cell_type": "markdown",
      "metadata": {
        "id": "FTay7E9rEzFm"
      },
      "source": [
        "We then create the training loop..."
      ]
    },
    {
      "cell_type": "code",
      "metadata": {
        "id": "A5OYuoFdEzFm"
      },
      "source": [
        "def train(model, iterator, optimizer, criterion, clip):\n",
        "    \n",
        "    model.train()\n",
        "    \n",
        "    epoch_loss = 0\n",
        "    \n",
        "    for i, batch in enumerate(iterator):\n",
        "        \n",
        "        src = batch.src\n",
        "        trg = batch.trg\n",
        "        \n",
        "        optimizer.zero_grad()\n",
        "        \n",
        "        output = model(src, trg)\n",
        "        \n",
        "        #trg = [trg len, batch size]\n",
        "        #output = [trg len, batch size, output dim]\n",
        "        \n",
        "        output_dim = output.shape[-1]\n",
        "        \n",
        "        output = output[1:].view(-1, output_dim)\n",
        "        trg = trg[1:].view(-1)\n",
        "        \n",
        "        #trg = [(trg len - 1) * batch size]\n",
        "        #output = [(trg len - 1) * batch size, output dim]\n",
        "        \n",
        "        loss = criterion(output, trg)\n",
        "        \n",
        "        loss.backward()\n",
        "        \n",
        "        torch.nn.utils.clip_grad_norm_(model.parameters(), clip)\n",
        "        \n",
        "        optimizer.step()\n",
        "        \n",
        "        epoch_loss += loss.item()\n",
        "        \n",
        "    return epoch_loss / len(iterator)"
      ],
      "execution_count": 25,
      "outputs": []
    },
    {
      "cell_type": "markdown",
      "metadata": {
        "id": "6rfUx5lhEzFm"
      },
      "source": [
        "...and the evaluation loop, remembering to set the model to `eval` mode and turn off teaching forcing."
      ]
    },
    {
      "cell_type": "code",
      "metadata": {
        "id": "Jw022pw0EzFm"
      },
      "source": [
        "def evaluate(model, iterator, criterion):\n",
        "    \n",
        "    model.eval()\n",
        "    \n",
        "    epoch_loss = 0\n",
        "    \n",
        "    with torch.no_grad():\n",
        "    \n",
        "        for i, batch in enumerate(iterator):\n",
        "\n",
        "            src = batch.src\n",
        "            trg = batch.trg\n",
        "\n",
        "            output = model(src, trg, 0) #turn off teacher forcing\n",
        "\n",
        "            #trg = [trg len, batch size]\n",
        "            #output = [trg len, batch size, output dim]\n",
        "\n",
        "            output_dim = output.shape[-1]\n",
        "            \n",
        "            output = output[1:].view(-1, output_dim)\n",
        "            trg = trg[1:].view(-1)\n",
        "\n",
        "            #trg = [(trg len - 1) * batch size]\n",
        "            #output = [(trg len - 1) * batch size, output dim]\n",
        "\n",
        "            loss = criterion(output, trg)\n",
        "\n",
        "            epoch_loss += loss.item()\n",
        "        \n",
        "    return epoch_loss / len(iterator)"
      ],
      "execution_count": 26,
      "outputs": []
    },
    {
      "cell_type": "markdown",
      "metadata": {
        "id": "E43h8dnQEzFm"
      },
      "source": [
        "We'll also define the function that calculates how long an epoch takes."
      ]
    },
    {
      "cell_type": "code",
      "metadata": {
        "id": "zTAmu3-EEzFm"
      },
      "source": [
        "def epoch_time(start_time, end_time):\n",
        "    elapsed_time = end_time - start_time\n",
        "    elapsed_mins = int(elapsed_time / 60)\n",
        "    elapsed_secs = int(elapsed_time - (elapsed_mins * 60))\n",
        "    return elapsed_mins, elapsed_secs"
      ],
      "execution_count": 27,
      "outputs": []
    },
    {
      "cell_type": "code",
      "metadata": {
        "colab": {
          "base_uri": "https://localhost:8080/"
        },
        "id": "vtErOSCagD9t",
        "outputId": "5a241806-35ed-44e8-f12e-17bb1c8cd65f"
      },
      "source": [
        "print(device)"
      ],
      "execution_count": 28,
      "outputs": [
        {
          "output_type": "stream",
          "text": [
            "cuda\n"
          ],
          "name": "stdout"
        }
      ]
    },
    {
      "cell_type": "markdown",
      "metadata": {
        "id": "kbCGyO4ZEzFm"
      },
      "source": [
        "Then, we train our model, saving the parameters that give us the best validation loss."
      ]
    },
    {
      "cell_type": "code",
      "metadata": {
        "id": "jjFyRUK9EzFm",
        "colab": {
          "base_uri": "https://localhost:8080/"
        },
        "outputId": "03016ddf-5407-4fe4-9ab2-8b2afaf033ee"
      },
      "source": [
        "N_EPOCHS = 10\n",
        "CLIP = 1\n",
        "\n",
        "best_valid_loss = float('inf')\n",
        "\n",
        "for epoch in range(N_EPOCHS):\n",
        "    \n",
        "    start_time = time.time()\n",
        "    \n",
        "    train_loss = train(model, train_iterator, optimizer, criterion, CLIP)\n",
        "    valid_loss = evaluate(model, valid_iterator, criterion)\n",
        "    \n",
        "    end_time = time.time()\n",
        "    \n",
        "    epoch_mins, epoch_secs = epoch_time(start_time, end_time)\n",
        "    \n",
        "    if valid_loss < best_valid_loss:\n",
        "        best_valid_loss = valid_loss\n",
        "        torch.save(model.state_dict(), 'tut2-model.pt')\n",
        "    \n",
        "    print(f'Epoch: {epoch+1:02} | Time: {epoch_mins}m {epoch_secs}s')\n",
        "    print(f'\\tTrain Loss: {train_loss:.3f} | Train PPL: {math.exp(train_loss):7.3f}')\n",
        "    print(f'\\t Val. Loss: {valid_loss:.3f} |  Val. PPL: {math.exp(valid_loss):7.3f}')"
      ],
      "execution_count": 29,
      "outputs": [
        {
          "output_type": "stream",
          "text": [
            "Epoch: 01 | Time: 0m 2s\n",
            "\tTrain Loss: 4.647 | Train PPL: 104.292\n",
            "\t Val. Loss: 3.790 |  Val. PPL:  44.258\n",
            "Epoch: 02 | Time: 0m 1s\n",
            "\tTrain Loss: 4.085 | Train PPL:  59.447\n",
            "\t Val. Loss: 3.778 |  Val. PPL:  43.735\n",
            "Epoch: 03 | Time: 0m 1s\n",
            "\tTrain Loss: 4.007 | Train PPL:  54.966\n",
            "\t Val. Loss: 3.759 |  Val. PPL:  42.895\n",
            "Epoch: 04 | Time: 0m 1s\n",
            "\tTrain Loss: 3.963 | Train PPL:  52.610\n",
            "\t Val. Loss: 3.758 |  Val. PPL:  42.854\n",
            "Epoch: 05 | Time: 0m 1s\n",
            "\tTrain Loss: 3.951 | Train PPL:  51.976\n",
            "\t Val. Loss: 3.776 |  Val. PPL:  43.640\n",
            "Epoch: 06 | Time: 0m 1s\n",
            "\tTrain Loss: 3.920 | Train PPL:  50.404\n",
            "\t Val. Loss: 3.763 |  Val. PPL:  43.068\n",
            "Epoch: 07 | Time: 0m 1s\n",
            "\tTrain Loss: 3.908 | Train PPL:  49.787\n",
            "\t Val. Loss: 3.765 |  Val. PPL:  43.143\n",
            "Epoch: 08 | Time: 0m 1s\n",
            "\tTrain Loss: 3.866 | Train PPL:  47.761\n",
            "\t Val. Loss: 3.759 |  Val. PPL:  42.925\n",
            "Epoch: 09 | Time: 0m 1s\n",
            "\tTrain Loss: 3.844 | Train PPL:  46.733\n",
            "\t Val. Loss: 3.756 |  Val. PPL:  42.785\n",
            "Epoch: 10 | Time: 0m 1s\n",
            "\tTrain Loss: 3.789 | Train PPL:  44.227\n",
            "\t Val. Loss: 3.760 |  Val. PPL:  42.928\n"
          ],
          "name": "stdout"
        }
      ]
    },
    {
      "cell_type": "markdown",
      "metadata": {
        "id": "ztR5mNm8EzFn"
      },
      "source": [
        "Finally, we test the model on the test set using these \"best\" parameters."
      ]
    },
    {
      "cell_type": "code",
      "metadata": {
        "id": "xaJo3X9aEzFn",
        "colab": {
          "base_uri": "https://localhost:8080/"
        },
        "outputId": "7b08ca54-fb38-49be-e31f-b1e29e070d15"
      },
      "source": [
        "model.load_state_dict(torch.load('tut2-model.pt'))\n",
        "\n",
        "test_loss = evaluate(model, test_iterator, criterion)\n",
        "\n",
        "print(f'| Test Loss: {test_loss:.3f} | Test PPL: {math.exp(test_loss):7.3f} |')"
      ],
      "execution_count": 30,
      "outputs": [
        {
          "output_type": "stream",
          "text": [
            "| Test Loss: 3.771 | Test PPL:  43.406 |\n"
          ],
          "name": "stdout"
        }
      ]
    },
    {
      "cell_type": "markdown",
      "metadata": {
        "id": "QY7SsC8TEzFn"
      },
      "source": [
        "Just looking at the test loss, we get better performance. This is a pretty good sign that this model architecture is doing something right! Relieving the information compression seems like the way forard, and in the next tutorial we'll expand on this even further with *attention*."
      ]
    }
  ]
}
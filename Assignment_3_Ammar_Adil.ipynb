{
  "nbformat": 4,
  "nbformat_minor": 0,
  "metadata": {
    "colab": {
      "name": "Assignment 3 Ammar Adil",
      "provenance": [],
      "collapsed_sections": []
    },
    "kernelspec": {
      "name": "python3",
      "display_name": "Python 3"
    }
  },
  "cells": [
    {
      "cell_type": "code",
      "metadata": {
        "id": "6lLFZBGcuK9g",
        "outputId": "f565a5a6-fe80-4cb0-cc22-bd5d7234902f",
        "colab": {
          "base_uri": "https://localhost:8080/"
        }
      },
      "source": [
        "print(\"Assignment 3\")"
      ],
      "execution_count": 1,
      "outputs": [
        {
          "output_type": "stream",
          "text": [
            "Assignment 3\n"
          ],
          "name": "stdout"
        }
      ]
    },
    {
      "cell_type": "markdown",
      "metadata": {
        "id": "g2IcVKJ3w8f6"
      },
      "source": [
        "**Q1:** Write a function using only list filter lambda that can tell whether a number is a Fibonacci number or not. You can use a pre-calculated list/dict to store fab numbers till 10000"
      ]
    },
    {
      "cell_type": "code",
      "metadata": {
        "id": "ZpR_SaBXuZX8"
      },
      "source": [
        "fib = [0] * 10000\n",
        "\n",
        "fib[0] = 0\n",
        "fib[1] = 1\n",
        "\n",
        "for i in range(2, 10000):\n",
        "    fib[i] = fib[i-1]+fib[i-2]\n",
        "\n",
        "def check_fibonacci(i): \n",
        "    if i in fib:\n",
        "        return True\n",
        "    return False"
      ],
      "execution_count": 3,
      "outputs": []
    },
    {
      "cell_type": "markdown",
      "metadata": {
        "id": "erjj833ZxDD0"
      },
      "source": [
        "**Q2:** Using list comprehension (and zip / lambda / etc if required) write five different expressions that\n",
        "\n",
        "\n",
        "*   add 2 iterables a and b such that a is even and b is odd\n",
        "*   strips every vowel from a string provided (tsai>>t s)\n",
        "*   acts like a ReLU function for a 1D array\n",
        "*   acts like a sigmoid function for a 1D array\n",
        "*   takes a small character string and shifts all characters by 5 (handle boundary conditions) tsai>>yxfn"
      ]
    },
    {
      "cell_type": "code",
      "metadata": {
        "id": "f0qVw06Hvpxl",
        "outputId": "306ed121-3fbd-48ce-b00d-caabbf279001",
        "colab": {
          "base_uri": "https://localhost:8080/"
        }
      },
      "source": [
        "# add 2 iterables a and b such that a is even and b is odd\n",
        "\n",
        "def even():\n",
        "    count = 0\n",
        "    while 1:\n",
        "        count = count + 2\n",
        "        yield count\n",
        "\n",
        "def odd():\n",
        "    count = 1\n",
        "    while 1:\n",
        "        count = count + 2\n",
        "        yield count\n",
        "\n",
        "a = even()\n",
        "b = odd()\n",
        "\n",
        "# strips every vowel from a string provided (tsai>>t s)\n",
        "\n",
        "import functools \n",
        "\n",
        "i = 'tsai'\n",
        "o = \"\"\n",
        "\n",
        "for c in i:\n",
        "    if c in ['a', 'e', 'i', 'o', 'u']:\n",
        "        continue\n",
        "    else:\n",
        "        o += c\n",
        "\n",
        "print(o)\n",
        "\n",
        "# acts like a ReLU function for a 1D array\n",
        "x = [-1, -2, 0, 1, 0.01, 2, 4, -0.01]\n",
        "\n",
        "print([0 if t < 0 else t for t in x])\n",
        "\n",
        "# acts like a sigmoid function for a 1D array\n",
        "\n",
        "x = [-1.1, -2, 0.6, 1, 0.01, 2, 4, -0.01]\n",
        "\n",
        "import math\n",
        "print([1/(1+math.exp(t)) for t in x])\n",
        "\n",
        "\n",
        "# takes a small character string and shifts all characters by 5 (handle boundary conditions) tsai>>yxfn\n",
        "\n",
        "print(ord(\"a\"))\n",
        "\n",
        "o = ''\n",
        "i = 'tsai'\n",
        "for c in i:\n",
        "    o += chr((ord(c)-97 + 5 )%26 + 97)\n",
        "\n",
        "print(o)"
      ],
      "execution_count": 34,
      "outputs": [
        {
          "output_type": "stream",
          "text": [
            "ts\n",
            "[0, 0, 0, 1, 0.01, 2, 4, 0]\n",
            "[0.7502601055951177, 0.8807970779778823, 0.35434369377420455, 0.2689414213699951, 0.49750002083312506, 0.11920292202211755, 0.01798620996209156, 0.5024999791668749]\n",
            "97\n",
            "yxfn\n"
          ],
          "name": "stdout"
        }
      ]
    },
    {
      "cell_type": "markdown",
      "metadata": {
        "id": "oD-HV_d1xw9I"
      },
      "source": [
        "**Q3:** A list comprehension expression that takes a ~200 word paragraph (write your own paragraph to check), and checks whether it has any of the swear words mentioned in https://github.com/RobertJGabriel/Google-profanity-words/blob/master/list.txt "
      ]
    },
    {
      "cell_type": "code",
      "metadata": {
        "id": "p6wbUeoIwUe8",
        "outputId": "18f966c3-3507-46a4-8d69-a95f05effb64",
        "colab": {
          "base_uri": "https://localhost:8080/"
        }
      },
      "source": [
        "import urllib\n",
        "response = urllib.request.urlopen('https://raw.githubusercontent.com/RobertJGabriel/Google-profanity-words/master/list.txt')\n",
        "lines = response.readlines()\n",
        "words = []\n",
        "for line in lines:\n",
        "    words.append(str(line.decode(\"utf-8\")).replace('\\n', ''))\n",
        "\n",
        "s = '5hIt, this is bloody crap'\n",
        "\n",
        "for w in s.split(' '):\n",
        "    if w in words: \n",
        "        print(\"Slang Used\")\n",
        "        break\n"
      ],
      "execution_count": 45,
      "outputs": [
        {
          "output_type": "stream",
          "text": [
            "Slang Used\n"
          ],
          "name": "stdout"
        }
      ]
    },
    {
      "cell_type": "markdown",
      "metadata": {
        "id": "LmVCXFfMx20Y"
      },
      "source": [
        "**Q4:** Using reduce functions:\n",
        "\n",
        "*   add only even numbers in a list\n",
        "*   find the biggest character in a string (printable ascii characters)\n",
        "\n"
      ]
    },
    {
      "cell_type": "code",
      "metadata": {
        "id": "WKpVVWiJyDdp",
        "outputId": "2ddcc6c5-9f8d-44d1-9de6-4001e7699e2f",
        "colab": {
          "base_uri": "https://localhost:8080/"
        }
      },
      "source": [
        "from functools import reduce\n",
        "\n",
        "# add only even numbers in a list\n",
        "n = [0, 1, 5, 6, 9, 12, 17]\n",
        "print(reduce(lambda s, i: s+i if i%2 == 0 else s, n, 0))\n",
        "\n",
        "# find the biggest character in a string (printable ascii characters)\n",
        "test_str = 'traksdnp0q3804c239~n43934\n",
        "print(chr(reduce(lambda b, c: ord(c) if ord(c) > b else b, test_str, 33)))"
      ],
      "execution_count": 66,
      "outputs": [
        {
          "output_type": "stream",
          "text": [
            "18\n",
            "~\n"
          ],
          "name": "stdout"
        }
      ]
    },
    {
      "cell_type": "markdown",
      "metadata": {
        "id": "OVPoxqnYyIrk"
      },
      "source": [
        "**Q5:** Using randint, random.choice and list comprehensions, write an expression that generates 15 random KADDAADDDD number plates, where KA is fixed, D stands for a digit, and A stands for Capital alphabets. 10<<DD<<99 & 1000<<DDDD<<9999"
      ]
    },
    {
      "cell_type": "code",
      "metadata": {
        "id": "dTyHxlsnyPEy",
        "outputId": "512c083d-44cf-41a0-c6d7-6af726cf3c36",
        "colab": {
          "base_uri": "https://localhost:8080/"
        }
      },
      "source": [
        "import random\n",
        "\n",
        "random.randint(10, 99)\n",
        "\n",
        "for i in range (15):\n",
        "    print(\"KA\" + str(random.randint(10, 99)) + chr(random.randint(65, 90)) + chr(random.randint(65, 90)) + str(random.randint(1000, 9999)))"
      ],
      "execution_count": 69,
      "outputs": [
        {
          "output_type": "stream",
          "text": [
            "KA29BO1613\n",
            "KA27CK3247\n",
            "KA86VJ8075\n",
            "KA17GK4468\n",
            "KA25GH8058\n",
            "KA60SZ8273\n",
            "KA16TQ9693\n",
            "KA81YU9248\n",
            "KA34XC8007\n",
            "KA14BQ6943\n",
            "KA19PY1350\n",
            "KA89EX7034\n",
            "KA71XG8410\n",
            "KA75TS6632\n",
            "KA18RO8639\n"
          ],
          "name": "stdout"
        }
      ]
    },
    {
      "cell_type": "markdown",
      "metadata": {
        "id": "kRYyg4Vyyumi"
      },
      "source": [
        "**Q6:** Write the above again from scratch where KA can be changed to DL, and 1000/9999 ranges can be provided."
      ]
    },
    {
      "cell_type": "code",
      "metadata": {
        "id": "qgnL9pccyx_v",
        "outputId": "183646be-ca54-4196-9378-5e0216591395",
        "colab": {
          "base_uri": "https://localhost:8080/"
        }
      },
      "source": [
        "def number_plate(state=\"KA\", num_range_start=1000, num_range_end=9999):\n",
        "    print(state + str(random.randint(10, 99)) + chr(random.randint(65, 90)) + chr(random.randint(65, 90)) + str(random.randint(num_range_start, num_range_end)))\n",
        "\n",
        "number_plate(\"DL\", 1500, 7777)"
      ],
      "execution_count": 71,
      "outputs": [
        {
          "output_type": "stream",
          "text": [
            "DL91DU4707\n"
          ],
          "name": "stdout"
        }
      ]
    }
  ]
}